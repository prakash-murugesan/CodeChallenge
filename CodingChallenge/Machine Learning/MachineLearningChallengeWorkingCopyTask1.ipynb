{
 "cells": [
  {
   "cell_type": "markdown",
   "metadata": {},
   "source": [
    "# Machine Learning Challenge\n",
    "\n",
    "Below are 2 data challenges that test for your ability to:\n",
    "- Wrangle/clean data to make it usable by a model\n",
    "- Figure out how to set up X's and y's for a use case, given a dataset\n",
    "- Write code to robustly and reproducibly preprocess data\n",
    "- Pick/design the right model, and tune hyperparameters to get the best performance\n",
    "\n",
    "You can use any programming language, model, and package to solve these problems. Let us know of any assumptions you make in your process.\n",
    "\n",
    "#### Deliverables:\n",
    "- A link to a github repository that contains:\n",
    "    - Clearly commented code that was written to solve these problems\n",
    "    - Your trained models stored in a file (`.pkl`, `.h5`, `.tar` - whatever is appropriate). The models must have `predict(X)` functions. \n",
    "    - A readme file that contains:\n",
    "        - Instructions to easily access/load the above\n",
    "        - A writeup explaining any significant design decisions and your reasons for making them. \n",
    "        - If needed, a brief writeup explaining anything you are particularly proud of in your implementation that you might want us to focus on\n",
    "\n",
    "#### How we'll assess your work:\n",
    "- Accuracy/RMSE of your model when predicting on held-out data\n",
    "- How well various edge cases are handled when testing on held-out data. For example, if the held-out data contains:\n",
    "    - A new column that wasn't present in the dataset given to you\n",
    "    - New value in a categorical field that wasn't seen in the dataset given to you\n",
    "    - NA values\n",
    "- Efficiency of the code. \n",
    "    - Is it easy to understand? \n",
    "    - Are the variable names descriptive? \n",
    "    - Are there any variables created that aren't used? \n",
    "    - Is redundant code replaced with function calls? \n",
    "    - Is vectorized implementation used instead of nested for loops? \n",
    "    - Are classes defined and objects created where applicable? \n",
    "    - Are packages used to perform tasks instead of implementing them from scratch?\n",
    "    \n",
    "**NOTE:** Your stored models, once loaded, should *just work* when fed with our held-out data (which looks similar to the data we've given you). We won't do any preprocessing before we feed it into the model's `predict(X)` function; `predict(X)` should handle the preprocessing. Pay particular attention to handling the edge cases we've talked about.\n",
    "\n",
    "Feel free to ask questions to clarify things. Submit everything you tried, not just the things that worked. I encourage you to try and showcase your talents. The more you go above and beyond what's expected, the more impressed we'll be. **Bonus points if you fit Keras/Tensorflow/Pytorch/Caffe models** in addition to your Linear/Tree-based models."
   ]
  },
  {
   "cell_type": "markdown",
   "metadata": {},
   "source": [
    "## 0. Import dependencies"
   ]
  },
  {
   "cell_type": "code",
   "execution_count": 2,
   "metadata": {},
   "outputs": [
    {
     "name": "stderr",
     "output_type": "stream",
     "text": [
      "C:\\Users\\Prakash14\\Anaconda3\\envs\\carnd-term1\\lib\\site-packages\\sklearn\\ensemble\\weight_boosting.py:29: DeprecationWarning: numpy.core.umath_tests is an internal NumPy module and should not be imported. It will be removed in a future NumPy release.\n",
      "  from numpy.core.umath_tests import inner1d\n"
     ]
    }
   ],
   "source": [
    "import pandas as pd\n",
    "import numpy as np\n",
    "import matplotlib.pyplot as plt\n",
    "\n",
    "from sklearn import preprocessing as scale\n",
    "from sklearn.utils import resample\n",
    "from sklearn.model_selection import train_test_split\n",
    "\n",
    "import xgboost\n",
    "from sklearn.linear_model import LogisticRegression \n",
    "from sklearn.ensemble import RandomForestClassifier \n",
    "from sklearn.metrics import mean_squared_error, accuracy_score, average_precision_score, precision_score, f1_score,recall_score, roc_auc_score"
   ]
  },
  {
   "cell_type": "markdown",
   "metadata": {},
   "source": [
    "## Task 1\n",
    "`predictive_maintenance_dataset.csv` is a file that contains parameters and settings (`operational_setting_1`, `operational_setting_2`, `sensor_measurement_1`, `sensor_measurement_2`, etc.) for many wind turbines. There is a column called `unit_number` which specifies which turbine it is, and one called `status`, in which a value of 1 means the turbine broke down that day, and 0 means it didn't. Your task is to create a model that, when fed with operational settings and sensor measurements (`unit_number` and `time_stamp` will *not* be fed in), outputs 1 if the turbine will break down within the next 40 days, and 0 if not.\n",
    "\n",
    "**NOTE:** The model should output 1 if the turbine is anywhere between 40 and 0 days away from failure, not *only* 40 days from failure."
   ]
  },
  {
   "cell_type": "code",
   "execution_count": null,
   "metadata": {
    "scrolled": true
   },
   "outputs": [],
   "source": [
    "## What the data that we'll feed into your model's predict(X) function will look like:\n",
    "# Notice what the operational_setting_3 column looks like\n",
    "df_X = pd.read_csv(\"predictive_maintenance_dataset.csv\").drop(labels=['status', 'unit_number', 'time_stamp'], axis='columns')\n",
    "df_X.head()"
   ]
  },
  {
   "cell_type": "markdown",
   "metadata": {},
   "source": [
    "### Import data"
   ]
  },
  {
   "cell_type": "code",
   "execution_count": 3,
   "metadata": {
    "scrolled": true
   },
   "outputs": [
    {
     "data": {
      "text/html": [
       "<div>\n",
       "<style scoped>\n",
       "    .dataframe tbody tr th:only-of-type {\n",
       "        vertical-align: middle;\n",
       "    }\n",
       "\n",
       "    .dataframe tbody tr th {\n",
       "        vertical-align: top;\n",
       "    }\n",
       "\n",
       "    .dataframe thead th {\n",
       "        text-align: right;\n",
       "    }\n",
       "</style>\n",
       "<table border=\"1\" class=\"dataframe\">\n",
       "  <thead>\n",
       "    <tr style=\"text-align: right;\">\n",
       "      <th></th>\n",
       "      <th>unit_number</th>\n",
       "      <th>time_stamp</th>\n",
       "      <th>status</th>\n",
       "      <th>operational_setting_1</th>\n",
       "      <th>operational_setting_2</th>\n",
       "      <th>operational_setting_3</th>\n",
       "      <th>sensor_measurement_1</th>\n",
       "      <th>sensor_measurement_2</th>\n",
       "      <th>sensor_measurement_3</th>\n",
       "      <th>sensor_measurement_4</th>\n",
       "      <th>...</th>\n",
       "      <th>sensor_measurement_12</th>\n",
       "      <th>sensor_measurement_13</th>\n",
       "      <th>sensor_measurement_14</th>\n",
       "      <th>sensor_measurement_15</th>\n",
       "      <th>sensor_measurement_16</th>\n",
       "      <th>sensor_measurement_17</th>\n",
       "      <th>sensor_measurement_18</th>\n",
       "      <th>sensor_measurement_19</th>\n",
       "      <th>sensor_measurement_20</th>\n",
       "      <th>sensor_measurement_21</th>\n",
       "    </tr>\n",
       "  </thead>\n",
       "  <tbody>\n",
       "    <tr>\n",
       "      <th>73382</th>\n",
       "      <td>2</td>\n",
       "      <td>2017-04-01 12:00:00</td>\n",
       "      <td>0</td>\n",
       "      <td>-0.0018</td>\n",
       "      <td>0.0006</td>\n",
       "      <td>High</td>\n",
       "      <td>518.67</td>\n",
       "      <td>641.89</td>\n",
       "      <td>1583.84</td>\n",
       "      <td>1391.28</td>\n",
       "      <td>...</td>\n",
       "      <td>522.33</td>\n",
       "      <td>2388.06</td>\n",
       "      <td>8137.72</td>\n",
       "      <td>8.3905</td>\n",
       "      <td>0.03</td>\n",
       "      <td>391.0</td>\n",
       "      <td>2388.0</td>\n",
       "      <td>100.0</td>\n",
       "      <td>38.94</td>\n",
       "      <td>23.4585</td>\n",
       "    </tr>\n",
       "    <tr>\n",
       "      <th>90923</th>\n",
       "      <td>2</td>\n",
       "      <td>2017-04-02 12:00:00</td>\n",
       "      <td>0</td>\n",
       "      <td>0.0043</td>\n",
       "      <td>-0.0003</td>\n",
       "      <td>High</td>\n",
       "      <td>518.67</td>\n",
       "      <td>641.82</td>\n",
       "      <td>1587.05</td>\n",
       "      <td>1393.13</td>\n",
       "      <td>...</td>\n",
       "      <td>522.70</td>\n",
       "      <td>2387.98</td>\n",
       "      <td>8131.09</td>\n",
       "      <td>8.4167</td>\n",
       "      <td>0.03</td>\n",
       "      <td>NaN</td>\n",
       "      <td>2388.0</td>\n",
       "      <td>100.0</td>\n",
       "      <td>39.06</td>\n",
       "      <td>23.4085</td>\n",
       "    </tr>\n",
       "    <tr>\n",
       "      <th>82527</th>\n",
       "      <td>2</td>\n",
       "      <td>2017-04-03 12:00:00</td>\n",
       "      <td>0</td>\n",
       "      <td>0.0018</td>\n",
       "      <td>0.0003</td>\n",
       "      <td>High</td>\n",
       "      <td>518.67</td>\n",
       "      <td>641.55</td>\n",
       "      <td>1588.32</td>\n",
       "      <td>1398.96</td>\n",
       "      <td>...</td>\n",
       "      <td>522.58</td>\n",
       "      <td>2387.99</td>\n",
       "      <td>8140.58</td>\n",
       "      <td>8.3802</td>\n",
       "      <td>0.03</td>\n",
       "      <td>391.0</td>\n",
       "      <td>2388.0</td>\n",
       "      <td>100.0</td>\n",
       "      <td>39.11</td>\n",
       "      <td>23.4250</td>\n",
       "    </tr>\n",
       "    <tr>\n",
       "      <th>96521</th>\n",
       "      <td>2</td>\n",
       "      <td>2017-04-04 12:00:00</td>\n",
       "      <td>0</td>\n",
       "      <td>0.0035</td>\n",
       "      <td>-0.0004</td>\n",
       "      <td>High</td>\n",
       "      <td>518.67</td>\n",
       "      <td>641.68</td>\n",
       "      <td>1584.15</td>\n",
       "      <td>1396.08</td>\n",
       "      <td>...</td>\n",
       "      <td>522.49</td>\n",
       "      <td>2387.93</td>\n",
       "      <td>8140.44</td>\n",
       "      <td>8.4018</td>\n",
       "      <td>0.03</td>\n",
       "      <td>391.0</td>\n",
       "      <td>2388.0</td>\n",
       "      <td>100.0</td>\n",
       "      <td>39.13</td>\n",
       "      <td>23.5027</td>\n",
       "    </tr>\n",
       "    <tr>\n",
       "      <th>73137</th>\n",
       "      <td>2</td>\n",
       "      <td>2017-04-05 12:00:00</td>\n",
       "      <td>0</td>\n",
       "      <td>0.0005</td>\n",
       "      <td>0.0004</td>\n",
       "      <td>High</td>\n",
       "      <td>518.67</td>\n",
       "      <td>641.73</td>\n",
       "      <td>1579.03</td>\n",
       "      <td>1402.52</td>\n",
       "      <td>...</td>\n",
       "      <td>522.27</td>\n",
       "      <td>2387.94</td>\n",
       "      <td>8136.67</td>\n",
       "      <td>8.3867</td>\n",
       "      <td>0.03</td>\n",
       "      <td>390.0</td>\n",
       "      <td>2388.0</td>\n",
       "      <td>100.0</td>\n",
       "      <td>39.18</td>\n",
       "      <td>23.4234</td>\n",
       "    </tr>\n",
       "  </tbody>\n",
       "</table>\n",
       "<p>5 rows × 27 columns</p>\n",
       "</div>"
      ],
      "text/plain": [
       "       unit_number          time_stamp  status  operational_setting_1  \\\n",
       "73382            2 2017-04-01 12:00:00       0                -0.0018   \n",
       "90923            2 2017-04-02 12:00:00       0                 0.0043   \n",
       "82527            2 2017-04-03 12:00:00       0                 0.0018   \n",
       "96521            2 2017-04-04 12:00:00       0                 0.0035   \n",
       "73137            2 2017-04-05 12:00:00       0                 0.0005   \n",
       "\n",
       "       operational_setting_2 operational_setting_3  sensor_measurement_1  \\\n",
       "73382                 0.0006                  High                518.67   \n",
       "90923                -0.0003                  High                518.67   \n",
       "82527                 0.0003                  High                518.67   \n",
       "96521                -0.0004                  High                518.67   \n",
       "73137                 0.0004                  High                518.67   \n",
       "\n",
       "       sensor_measurement_2  sensor_measurement_3  sensor_measurement_4  \\\n",
       "73382                641.89               1583.84               1391.28   \n",
       "90923                641.82               1587.05               1393.13   \n",
       "82527                641.55               1588.32               1398.96   \n",
       "96521                641.68               1584.15               1396.08   \n",
       "73137                641.73               1579.03               1402.52   \n",
       "\n",
       "               ...            sensor_measurement_12  sensor_measurement_13  \\\n",
       "73382          ...                           522.33                2388.06   \n",
       "90923          ...                           522.70                2387.98   \n",
       "82527          ...                           522.58                2387.99   \n",
       "96521          ...                           522.49                2387.93   \n",
       "73137          ...                           522.27                2387.94   \n",
       "\n",
       "       sensor_measurement_14  sensor_measurement_15  sensor_measurement_16  \\\n",
       "73382                8137.72                 8.3905                   0.03   \n",
       "90923                8131.09                 8.4167                   0.03   \n",
       "82527                8140.58                 8.3802                   0.03   \n",
       "96521                8140.44                 8.4018                   0.03   \n",
       "73137                8136.67                 8.3867                   0.03   \n",
       "\n",
       "       sensor_measurement_17  sensor_measurement_18  sensor_measurement_19  \\\n",
       "73382                  391.0                 2388.0                  100.0   \n",
       "90923                    NaN                 2388.0                  100.0   \n",
       "82527                  391.0                 2388.0                  100.0   \n",
       "96521                  391.0                 2388.0                  100.0   \n",
       "73137                  390.0                 2388.0                  100.0   \n",
       "\n",
       "       sensor_measurement_20  sensor_measurement_21  \n",
       "73382                  38.94                23.4585  \n",
       "90923                  39.06                23.4085  \n",
       "82527                  39.11                23.4250  \n",
       "96521                  39.13                23.5027  \n",
       "73137                  39.18                23.4234  \n",
       "\n",
       "[5 rows x 27 columns]"
      ]
     },
     "execution_count": 3,
     "metadata": {},
     "output_type": "execute_result"
    }
   ],
   "source": [
    "df = pd.read_csv(\"predictive_maintenance_dataset.csv\", parse_dates=['time_stamp']).sort_values(by = ['unit_number', 'time_stamp'], ascending = True)\n",
    "df.head()"
   ]
  },
  {
   "cell_type": "markdown",
   "metadata": {},
   "source": [
    "### Data exploration"
   ]
  },
  {
   "cell_type": "markdown",
   "metadata": {},
   "source": [
    "Check for non-numerical values, categorical columns"
   ]
  },
  {
   "cell_type": "code",
   "execution_count": 4,
   "metadata": {},
   "outputs": [
    {
     "data": {
      "text/plain": [
       "operational_setting_3    object\n",
       "dtype: object"
      ]
     },
     "execution_count": 4,
     "metadata": {},
     "output_type": "execute_result"
    }
   ],
   "source": [
    "df.select_dtypes(include=['object']).dtypes"
   ]
  },
  {
   "cell_type": "markdown",
   "metadata": {},
   "source": [
    "Are there any null columns and how many null values? "
   ]
  },
  {
   "cell_type": "code",
   "execution_count": 5,
   "metadata": {},
   "outputs": [
    {
     "data": {
      "text/plain": [
       "unit_number                 0\n",
       "time_stamp                  0\n",
       "status                      0\n",
       "operational_setting_1    7141\n",
       "operational_setting_2    7196\n",
       "operational_setting_3    7227\n",
       "sensor_measurement_1     7209\n",
       "sensor_measurement_2     7198\n",
       "sensor_measurement_3     7190\n",
       "sensor_measurement_4     7335\n",
       "sensor_measurement_5     7244\n",
       "sensor_measurement_6     7444\n",
       "sensor_measurement_7     7213\n",
       "sensor_measurement_8     7276\n",
       "sensor_measurement_9     7207\n",
       "sensor_measurement_10    7191\n",
       "sensor_measurement_11    7180\n",
       "sensor_measurement_12    7227\n",
       "sensor_measurement_13    7115\n",
       "sensor_measurement_14    7068\n",
       "sensor_measurement_15    7257\n",
       "sensor_measurement_16    7059\n",
       "sensor_measurement_17    7167\n",
       "sensor_measurement_18    7265\n",
       "sensor_measurement_19    7195\n",
       "sensor_measurement_20    7018\n",
       "sensor_measurement_21    7165\n",
       "dtype: int64"
      ]
     },
     "execution_count": 5,
     "metadata": {},
     "output_type": "execute_result"
    }
   ],
   "source": [
    "df.isnull().sum()"
   ]
  },
  {
   "cell_type": "markdown",
   "metadata": {},
   "source": [
    "That's a lot of empty values! "
   ]
  },
  {
   "cell_type": "markdown",
   "metadata": {},
   "source": [
    "### Categorical value"
   ]
  },
  {
   "cell_type": "markdown",
   "metadata": {},
   "source": [
    "Considering replacement with mode so the most common occurence is used to fill the NaNs, however, if this is a very influential variable it might affect our model significantly. \n",
    "\n",
    "Another option is to just replace it with the neighbouring values."
   ]
  },
  {
   "cell_type": "code",
   "execution_count": 6,
   "metadata": {
    "scrolled": true
   },
   "outputs": [],
   "source": [
    "df['operational_setting_3'].fillna(df['operational_setting_3'].mode()[0], inplace=True)"
   ]
  },
  {
   "cell_type": "markdown",
   "metadata": {},
   "source": [
    "Converting to dummy variable and concatenating them at the end to quantify categorical variables"
   ]
  },
  {
   "cell_type": "code",
   "execution_count": 7,
   "metadata": {
    "scrolled": true
   },
   "outputs": [],
   "source": [
    "df = pd.concat([df.drop('operational_setting_3', axis=1), pd.get_dummies(df.operational_setting_3)], axis=1)"
   ]
  },
  {
   "cell_type": "markdown",
   "metadata": {},
   "source": [
    "### Numerical values"
   ]
  },
  {
   "cell_type": "markdown",
   "metadata": {},
   "source": [
    "Some 7000 values are missing out of 144000, that's about 5%, a significant number. This could be valuable information that otherwise may skew our data if not used or replaced with simply a zero.\n",
    "\n",
    "There are several ways we can approach the missing numerical values. We could use the mean or median values for the entire data set, or narrow down to those values of the individual units. \n",
    "\n",
    "For simplicity, since it is a time series and the data is chronologically sorted by machine numbers we just replace the missing variable with that of the previous hour. Assuming just sensor failure, this gives us  Assuming that would give us the most similar and likely variable that would existed there, if not perhaps for a sensor failure. "
   ]
  },
  {
   "cell_type": "code",
   "execution_count": 7,
   "metadata": {},
   "outputs": [],
   "source": [
    "#df.fillna(df.mean(axis=0), axis=0, inplace=True)\n",
    "df.fillna(method='ffill', inplace=True)"
   ]
  },
  {
   "cell_type": "markdown",
   "metadata": {},
   "source": [
    "### Constructing Labels"
   ]
  },
  {
   "cell_type": "markdown",
   "metadata": {},
   "source": [
    "We have an interesting case here: Multi-class classification for predicting failure within a given time window\n",
    "\n",
    "Essentially, we're trying to figure out a problem where given a set of parameters what is the likelihood that a certain unit fails within a 40 day timespan. A very useful business case. \n"
   ]
  },
  {
   "cell_type": "markdown",
   "metadata": {},
   "source": [
    "We can frame the ML problem by identifying the timestep of failure of turbine and backfilling 40 timeperiods with failures too. \n",
    "\n",
    "This labelled data set converts the time series problem to a supervised learning problem. "
   ]
  },
  {
   "cell_type": "code",
   "execution_count": 8,
   "metadata": {},
   "outputs": [
    {
     "data": {
      "text/html": [
       "<div>\n",
       "<style scoped>\n",
       "    .dataframe tbody tr th:only-of-type {\n",
       "        vertical-align: middle;\n",
       "    }\n",
       "\n",
       "    .dataframe tbody tr th {\n",
       "        vertical-align: top;\n",
       "    }\n",
       "\n",
       "    .dataframe thead th {\n",
       "        text-align: right;\n",
       "    }\n",
       "</style>\n",
       "<table border=\"1\" class=\"dataframe\">\n",
       "  <thead>\n",
       "    <tr style=\"text-align: right;\">\n",
       "      <th></th>\n",
       "      <th>unit_number</th>\n",
       "      <th>time_stamp</th>\n",
       "      <th>operational_setting_1</th>\n",
       "      <th>operational_setting_2</th>\n",
       "      <th>sensor_measurement_1</th>\n",
       "      <th>sensor_measurement_2</th>\n",
       "      <th>sensor_measurement_3</th>\n",
       "      <th>sensor_measurement_4</th>\n",
       "      <th>sensor_measurement_5</th>\n",
       "      <th>sensor_measurement_6</th>\n",
       "      <th>...</th>\n",
       "      <th>sensor_measurement_14</th>\n",
       "      <th>sensor_measurement_15</th>\n",
       "      <th>sensor_measurement_16</th>\n",
       "      <th>sensor_measurement_17</th>\n",
       "      <th>sensor_measurement_18</th>\n",
       "      <th>sensor_measurement_19</th>\n",
       "      <th>sensor_measurement_20</th>\n",
       "      <th>sensor_measurement_21</th>\n",
       "      <th>High</th>\n",
       "      <th>Low</th>\n",
       "    </tr>\n",
       "    <tr>\n",
       "      <th>status</th>\n",
       "      <th></th>\n",
       "      <th></th>\n",
       "      <th></th>\n",
       "      <th></th>\n",
       "      <th></th>\n",
       "      <th></th>\n",
       "      <th></th>\n",
       "      <th></th>\n",
       "      <th></th>\n",
       "      <th></th>\n",
       "      <th></th>\n",
       "      <th></th>\n",
       "      <th></th>\n",
       "      <th></th>\n",
       "      <th></th>\n",
       "      <th></th>\n",
       "      <th></th>\n",
       "      <th></th>\n",
       "      <th></th>\n",
       "      <th></th>\n",
       "      <th></th>\n",
       "    </tr>\n",
       "  </thead>\n",
       "  <tbody>\n",
       "    <tr>\n",
       "      <th>0</th>\n",
       "      <td>143570</td>\n",
       "      <td>143570</td>\n",
       "      <td>143570</td>\n",
       "      <td>143570</td>\n",
       "      <td>143570</td>\n",
       "      <td>143570</td>\n",
       "      <td>143570</td>\n",
       "      <td>143570</td>\n",
       "      <td>143570</td>\n",
       "      <td>143570</td>\n",
       "      <td>...</td>\n",
       "      <td>143570</td>\n",
       "      <td>143570</td>\n",
       "      <td>143570</td>\n",
       "      <td>143570</td>\n",
       "      <td>143570</td>\n",
       "      <td>143570</td>\n",
       "      <td>143570</td>\n",
       "      <td>143570</td>\n",
       "      <td>143570</td>\n",
       "      <td>143570</td>\n",
       "    </tr>\n",
       "    <tr>\n",
       "      <th>1</th>\n",
       "      <td>633</td>\n",
       "      <td>633</td>\n",
       "      <td>633</td>\n",
       "      <td>633</td>\n",
       "      <td>633</td>\n",
       "      <td>633</td>\n",
       "      <td>633</td>\n",
       "      <td>633</td>\n",
       "      <td>633</td>\n",
       "      <td>633</td>\n",
       "      <td>...</td>\n",
       "      <td>633</td>\n",
       "      <td>633</td>\n",
       "      <td>633</td>\n",
       "      <td>633</td>\n",
       "      <td>633</td>\n",
       "      <td>633</td>\n",
       "      <td>633</td>\n",
       "      <td>633</td>\n",
       "      <td>633</td>\n",
       "      <td>633</td>\n",
       "    </tr>\n",
       "  </tbody>\n",
       "</table>\n",
       "<p>2 rows × 27 columns</p>\n",
       "</div>"
      ],
      "text/plain": [
       "        unit_number  time_stamp  operational_setting_1  operational_setting_2  \\\n",
       "status                                                                          \n",
       "0            143570      143570                 143570                 143570   \n",
       "1               633         633                    633                    633   \n",
       "\n",
       "        sensor_measurement_1  sensor_measurement_2  sensor_measurement_3  \\\n",
       "status                                                                     \n",
       "0                     143570                143570                143570   \n",
       "1                        633                   633                   633   \n",
       "\n",
       "        sensor_measurement_4  sensor_measurement_5  sensor_measurement_6  \\\n",
       "status                                                                     \n",
       "0                     143570                143570                143570   \n",
       "1                        633                   633                   633   \n",
       "\n",
       "         ...    sensor_measurement_14  sensor_measurement_15  \\\n",
       "status   ...                                                   \n",
       "0        ...                   143570                 143570   \n",
       "1        ...                      633                    633   \n",
       "\n",
       "        sensor_measurement_16  sensor_measurement_17  sensor_measurement_18  \\\n",
       "status                                                                        \n",
       "0                      143570                 143570                 143570   \n",
       "1                         633                    633                    633   \n",
       "\n",
       "        sensor_measurement_19  sensor_measurement_20  sensor_measurement_21  \\\n",
       "status                                                                        \n",
       "0                      143570                 143570                 143570   \n",
       "1                         633                    633                    633   \n",
       "\n",
       "          High     Low  \n",
       "status                  \n",
       "0       143570  143570  \n",
       "1          633     633  \n",
       "\n",
       "[2 rows x 27 columns]"
      ]
     },
     "execution_count": 8,
     "metadata": {},
     "output_type": "execute_result"
    }
   ],
   "source": [
    "df.groupby(['status']).count()"
   ]
  },
  {
   "cell_type": "markdown",
   "metadata": {},
   "source": [
    "Let's replace all the 0s with NaNs and then we work backwards"
   ]
  },
  {
   "cell_type": "code",
   "execution_count": 9,
   "metadata": {
    "scrolled": true
   },
   "outputs": [],
   "source": [
    "df['status_new'] = df['status'].replace(0, np.NaN) "
   ]
  },
  {
   "cell_type": "markdown",
   "metadata": {},
   "source": [
    "We fill backward up to 40days. Thankfully the data is frequent, continuous, and daily. "
   ]
  },
  {
   "cell_type": "code",
   "execution_count": 10,
   "metadata": {},
   "outputs": [],
   "source": [
    "df['status_new'] = df['status_new'].fillna(method='bfill', limit=40) \n",
    "df['status_new'] = df['status_new'].fillna('0') #fill the rest with zeros"
   ]
  },
  {
   "cell_type": "code",
   "execution_count": 11,
   "metadata": {},
   "outputs": [
    {
     "data": {
      "text/html": [
       "<div>\n",
       "<style scoped>\n",
       "    .dataframe tbody tr th:only-of-type {\n",
       "        vertical-align: middle;\n",
       "    }\n",
       "\n",
       "    .dataframe tbody tr th {\n",
       "        vertical-align: top;\n",
       "    }\n",
       "\n",
       "    .dataframe thead th {\n",
       "        text-align: right;\n",
       "    }\n",
       "</style>\n",
       "<table border=\"1\" class=\"dataframe\">\n",
       "  <thead>\n",
       "    <tr style=\"text-align: right;\">\n",
       "      <th></th>\n",
       "      <th>unit_number</th>\n",
       "      <th>time_stamp</th>\n",
       "      <th>status</th>\n",
       "      <th>operational_setting_1</th>\n",
       "      <th>operational_setting_2</th>\n",
       "      <th>sensor_measurement_1</th>\n",
       "      <th>sensor_measurement_2</th>\n",
       "      <th>sensor_measurement_3</th>\n",
       "      <th>sensor_measurement_4</th>\n",
       "      <th>sensor_measurement_5</th>\n",
       "      <th>...</th>\n",
       "      <th>sensor_measurement_14</th>\n",
       "      <th>sensor_measurement_15</th>\n",
       "      <th>sensor_measurement_16</th>\n",
       "      <th>sensor_measurement_17</th>\n",
       "      <th>sensor_measurement_18</th>\n",
       "      <th>sensor_measurement_19</th>\n",
       "      <th>sensor_measurement_20</th>\n",
       "      <th>sensor_measurement_21</th>\n",
       "      <th>High</th>\n",
       "      <th>Low</th>\n",
       "    </tr>\n",
       "    <tr>\n",
       "      <th>status_new</th>\n",
       "      <th></th>\n",
       "      <th></th>\n",
       "      <th></th>\n",
       "      <th></th>\n",
       "      <th></th>\n",
       "      <th></th>\n",
       "      <th></th>\n",
       "      <th></th>\n",
       "      <th></th>\n",
       "      <th></th>\n",
       "      <th></th>\n",
       "      <th></th>\n",
       "      <th></th>\n",
       "      <th></th>\n",
       "      <th></th>\n",
       "      <th></th>\n",
       "      <th></th>\n",
       "      <th></th>\n",
       "      <th></th>\n",
       "      <th></th>\n",
       "      <th></th>\n",
       "    </tr>\n",
       "  </thead>\n",
       "  <tbody>\n",
       "    <tr>\n",
       "      <th>1.0</th>\n",
       "      <td>25953</td>\n",
       "      <td>25953</td>\n",
       "      <td>25953</td>\n",
       "      <td>25953</td>\n",
       "      <td>25953</td>\n",
       "      <td>25953</td>\n",
       "      <td>25953</td>\n",
       "      <td>25953</td>\n",
       "      <td>25953</td>\n",
       "      <td>25953</td>\n",
       "      <td>...</td>\n",
       "      <td>25953</td>\n",
       "      <td>25953</td>\n",
       "      <td>25953</td>\n",
       "      <td>25953</td>\n",
       "      <td>25953</td>\n",
       "      <td>25953</td>\n",
       "      <td>25953</td>\n",
       "      <td>25953</td>\n",
       "      <td>25953</td>\n",
       "      <td>25953</td>\n",
       "    </tr>\n",
       "    <tr>\n",
       "      <th>0</th>\n",
       "      <td>118250</td>\n",
       "      <td>118250</td>\n",
       "      <td>118250</td>\n",
       "      <td>118250</td>\n",
       "      <td>118250</td>\n",
       "      <td>118250</td>\n",
       "      <td>118250</td>\n",
       "      <td>118250</td>\n",
       "      <td>118250</td>\n",
       "      <td>118250</td>\n",
       "      <td>...</td>\n",
       "      <td>118250</td>\n",
       "      <td>118250</td>\n",
       "      <td>118250</td>\n",
       "      <td>118250</td>\n",
       "      <td>118250</td>\n",
       "      <td>118250</td>\n",
       "      <td>118250</td>\n",
       "      <td>118250</td>\n",
       "      <td>118250</td>\n",
       "      <td>118250</td>\n",
       "    </tr>\n",
       "  </tbody>\n",
       "</table>\n",
       "<p>2 rows × 28 columns</p>\n",
       "</div>"
      ],
      "text/plain": [
       "            unit_number  time_stamp  status  operational_setting_1  \\\n",
       "status_new                                                           \n",
       "1.0               25953       25953   25953                  25953   \n",
       "0                118250      118250  118250                 118250   \n",
       "\n",
       "            operational_setting_2  sensor_measurement_1  sensor_measurement_2  \\\n",
       "status_new                                                                      \n",
       "1.0                         25953                 25953                 25953   \n",
       "0                          118250                118250                118250   \n",
       "\n",
       "            sensor_measurement_3  sensor_measurement_4  sensor_measurement_5  \\\n",
       "status_new                                                                     \n",
       "1.0                        25953                 25953                 25953   \n",
       "0                         118250                118250                118250   \n",
       "\n",
       "             ...    sensor_measurement_14  sensor_measurement_15  \\\n",
       "status_new   ...                                                   \n",
       "1.0          ...                    25953                  25953   \n",
       "0            ...                   118250                 118250   \n",
       "\n",
       "            sensor_measurement_16  sensor_measurement_17  \\\n",
       "status_new                                                 \n",
       "1.0                         25953                  25953   \n",
       "0                          118250                 118250   \n",
       "\n",
       "            sensor_measurement_18  sensor_measurement_19  \\\n",
       "status_new                                                 \n",
       "1.0                         25953                  25953   \n",
       "0                          118250                 118250   \n",
       "\n",
       "            sensor_measurement_20  sensor_measurement_21    High     Low  \n",
       "status_new                                                                \n",
       "1.0                         25953                  25953   25953   25953  \n",
       "0                          118250                 118250  118250  118250  \n",
       "\n",
       "[2 rows x 28 columns]"
      ]
     },
     "execution_count": 11,
     "metadata": {},
     "output_type": "execute_result"
    }
   ],
   "source": [
    "df.groupby(['status_new']).count()"
   ]
  },
  {
   "cell_type": "markdown",
   "metadata": {},
   "source": [
    "Our failure cases have increased from 633 to 25953! That's a 40 time increase as expected. But the added benefit is that our dataset isn't so skewed anymore! "
   ]
  },
  {
   "cell_type": "code",
   "execution_count": 12,
   "metadata": {},
   "outputs": [],
   "source": [
    "df_X = df.drop(['unit_number', 'status', 'time_stamp','status_new'], axis = 1)\n",
    "df_y = df['status_new']"
   ]
  },
  {
   "cell_type": "code",
   "execution_count": 13,
   "metadata": {
    "scrolled": true
   },
   "outputs": [
    {
     "data": {
      "text/html": [
       "<div>\n",
       "<style scoped>\n",
       "    .dataframe tbody tr th:only-of-type {\n",
       "        vertical-align: middle;\n",
       "    }\n",
       "\n",
       "    .dataframe tbody tr th {\n",
       "        vertical-align: top;\n",
       "    }\n",
       "\n",
       "    .dataframe thead th {\n",
       "        text-align: right;\n",
       "    }\n",
       "</style>\n",
       "<table border=\"1\" class=\"dataframe\">\n",
       "  <thead>\n",
       "    <tr style=\"text-align: right;\">\n",
       "      <th></th>\n",
       "      <th>operational_setting_1</th>\n",
       "      <th>operational_setting_2</th>\n",
       "      <th>sensor_measurement_1</th>\n",
       "      <th>sensor_measurement_2</th>\n",
       "      <th>sensor_measurement_3</th>\n",
       "      <th>sensor_measurement_4</th>\n",
       "      <th>sensor_measurement_5</th>\n",
       "      <th>sensor_measurement_6</th>\n",
       "      <th>sensor_measurement_7</th>\n",
       "      <th>sensor_measurement_8</th>\n",
       "      <th>...</th>\n",
       "      <th>sensor_measurement_14</th>\n",
       "      <th>sensor_measurement_15</th>\n",
       "      <th>sensor_measurement_16</th>\n",
       "      <th>sensor_measurement_17</th>\n",
       "      <th>sensor_measurement_18</th>\n",
       "      <th>sensor_measurement_19</th>\n",
       "      <th>sensor_measurement_20</th>\n",
       "      <th>sensor_measurement_21</th>\n",
       "      <th>High</th>\n",
       "      <th>Low</th>\n",
       "    </tr>\n",
       "  </thead>\n",
       "  <tbody>\n",
       "    <tr>\n",
       "      <th>73382</th>\n",
       "      <td>-0.0018</td>\n",
       "      <td>0.0006</td>\n",
       "      <td>518.67</td>\n",
       "      <td>641.89</td>\n",
       "      <td>1583.84</td>\n",
       "      <td>1391.28</td>\n",
       "      <td>14.62</td>\n",
       "      <td>21.60</td>\n",
       "      <td>554.53</td>\n",
       "      <td>2388.01</td>\n",
       "      <td>...</td>\n",
       "      <td>8137.72</td>\n",
       "      <td>8.3905</td>\n",
       "      <td>0.03</td>\n",
       "      <td>391.0</td>\n",
       "      <td>2388.0</td>\n",
       "      <td>100.0</td>\n",
       "      <td>38.94</td>\n",
       "      <td>23.4585</td>\n",
       "      <td>1</td>\n",
       "      <td>0</td>\n",
       "    </tr>\n",
       "    <tr>\n",
       "      <th>90923</th>\n",
       "      <td>0.0043</td>\n",
       "      <td>-0.0003</td>\n",
       "      <td>518.67</td>\n",
       "      <td>641.82</td>\n",
       "      <td>1587.05</td>\n",
       "      <td>1393.13</td>\n",
       "      <td>14.62</td>\n",
       "      <td>21.61</td>\n",
       "      <td>554.77</td>\n",
       "      <td>2387.98</td>\n",
       "      <td>...</td>\n",
       "      <td>8131.09</td>\n",
       "      <td>8.4167</td>\n",
       "      <td>0.03</td>\n",
       "      <td>391.0</td>\n",
       "      <td>2388.0</td>\n",
       "      <td>100.0</td>\n",
       "      <td>39.06</td>\n",
       "      <td>23.4085</td>\n",
       "      <td>1</td>\n",
       "      <td>0</td>\n",
       "    </tr>\n",
       "    <tr>\n",
       "      <th>82527</th>\n",
       "      <td>0.0018</td>\n",
       "      <td>0.0003</td>\n",
       "      <td>518.67</td>\n",
       "      <td>641.55</td>\n",
       "      <td>1588.32</td>\n",
       "      <td>1398.96</td>\n",
       "      <td>14.62</td>\n",
       "      <td>21.60</td>\n",
       "      <td>555.14</td>\n",
       "      <td>2388.04</td>\n",
       "      <td>...</td>\n",
       "      <td>8140.58</td>\n",
       "      <td>8.3802</td>\n",
       "      <td>0.03</td>\n",
       "      <td>391.0</td>\n",
       "      <td>2388.0</td>\n",
       "      <td>100.0</td>\n",
       "      <td>39.11</td>\n",
       "      <td>23.4250</td>\n",
       "      <td>1</td>\n",
       "      <td>0</td>\n",
       "    </tr>\n",
       "    <tr>\n",
       "      <th>96521</th>\n",
       "      <td>0.0035</td>\n",
       "      <td>-0.0004</td>\n",
       "      <td>518.67</td>\n",
       "      <td>641.68</td>\n",
       "      <td>1584.15</td>\n",
       "      <td>1396.08</td>\n",
       "      <td>14.62</td>\n",
       "      <td>21.61</td>\n",
       "      <td>554.25</td>\n",
       "      <td>2387.98</td>\n",
       "      <td>...</td>\n",
       "      <td>8140.44</td>\n",
       "      <td>8.4018</td>\n",
       "      <td>0.03</td>\n",
       "      <td>391.0</td>\n",
       "      <td>2388.0</td>\n",
       "      <td>100.0</td>\n",
       "      <td>39.13</td>\n",
       "      <td>23.5027</td>\n",
       "      <td>1</td>\n",
       "      <td>0</td>\n",
       "    </tr>\n",
       "    <tr>\n",
       "      <th>73137</th>\n",
       "      <td>0.0005</td>\n",
       "      <td>0.0004</td>\n",
       "      <td>518.67</td>\n",
       "      <td>641.73</td>\n",
       "      <td>1579.03</td>\n",
       "      <td>1402.52</td>\n",
       "      <td>14.62</td>\n",
       "      <td>21.61</td>\n",
       "      <td>555.12</td>\n",
       "      <td>2388.03</td>\n",
       "      <td>...</td>\n",
       "      <td>8136.67</td>\n",
       "      <td>8.3867</td>\n",
       "      <td>0.03</td>\n",
       "      <td>390.0</td>\n",
       "      <td>2388.0</td>\n",
       "      <td>100.0</td>\n",
       "      <td>39.18</td>\n",
       "      <td>23.4234</td>\n",
       "      <td>1</td>\n",
       "      <td>0</td>\n",
       "    </tr>\n",
       "  </tbody>\n",
       "</table>\n",
       "<p>5 rows × 25 columns</p>\n",
       "</div>"
      ],
      "text/plain": [
       "       operational_setting_1  operational_setting_2  sensor_measurement_1  \\\n",
       "73382                -0.0018                 0.0006                518.67   \n",
       "90923                 0.0043                -0.0003                518.67   \n",
       "82527                 0.0018                 0.0003                518.67   \n",
       "96521                 0.0035                -0.0004                518.67   \n",
       "73137                 0.0005                 0.0004                518.67   \n",
       "\n",
       "       sensor_measurement_2  sensor_measurement_3  sensor_measurement_4  \\\n",
       "73382                641.89               1583.84               1391.28   \n",
       "90923                641.82               1587.05               1393.13   \n",
       "82527                641.55               1588.32               1398.96   \n",
       "96521                641.68               1584.15               1396.08   \n",
       "73137                641.73               1579.03               1402.52   \n",
       "\n",
       "       sensor_measurement_5  sensor_measurement_6  sensor_measurement_7  \\\n",
       "73382                 14.62                 21.60                554.53   \n",
       "90923                 14.62                 21.61                554.77   \n",
       "82527                 14.62                 21.60                555.14   \n",
       "96521                 14.62                 21.61                554.25   \n",
       "73137                 14.62                 21.61                555.12   \n",
       "\n",
       "       sensor_measurement_8 ...   sensor_measurement_14  \\\n",
       "73382               2388.01 ...                 8137.72   \n",
       "90923               2387.98 ...                 8131.09   \n",
       "82527               2388.04 ...                 8140.58   \n",
       "96521               2387.98 ...                 8140.44   \n",
       "73137               2388.03 ...                 8136.67   \n",
       "\n",
       "       sensor_measurement_15  sensor_measurement_16  sensor_measurement_17  \\\n",
       "73382                 8.3905                   0.03                  391.0   \n",
       "90923                 8.4167                   0.03                  391.0   \n",
       "82527                 8.3802                   0.03                  391.0   \n",
       "96521                 8.4018                   0.03                  391.0   \n",
       "73137                 8.3867                   0.03                  390.0   \n",
       "\n",
       "       sensor_measurement_18  sensor_measurement_19  sensor_measurement_20  \\\n",
       "73382                 2388.0                  100.0                  38.94   \n",
       "90923                 2388.0                  100.0                  39.06   \n",
       "82527                 2388.0                  100.0                  39.11   \n",
       "96521                 2388.0                  100.0                  39.13   \n",
       "73137                 2388.0                  100.0                  39.18   \n",
       "\n",
       "       sensor_measurement_21  High  Low  \n",
       "73382                23.4585     1    0  \n",
       "90923                23.4085     1    0  \n",
       "82527                23.4250     1    0  \n",
       "96521                23.5027     1    0  \n",
       "73137                23.4234     1    0  \n",
       "\n",
       "[5 rows x 25 columns]"
      ]
     },
     "execution_count": 13,
     "metadata": {},
     "output_type": "execute_result"
    }
   ],
   "source": [
    "df_X.head()"
   ]
  },
  {
   "cell_type": "code",
   "execution_count": 14,
   "metadata": {},
   "outputs": [
    {
     "data": {
      "text/plain": [
       "121541    1\n",
       "101889    1\n",
       "17932     1\n",
       "10097     1\n",
       "103638    1\n",
       "Name: status_new, dtype: object"
      ]
     },
     "execution_count": 14,
     "metadata": {},
     "output_type": "execute_result"
    }
   ],
   "source": [
    "df_y.tail()"
   ]
  },
  {
   "cell_type": "markdown",
   "metadata": {},
   "source": [
    "### Modelling"
   ]
  },
  {
   "cell_type": "markdown",
   "metadata": {},
   "source": [
    "We first split the data into training and testing sets. "
   ]
  },
  {
   "cell_type": "code",
   "execution_count": 16,
   "metadata": {},
   "outputs": [],
   "source": [
    "xtrain, xval, ytrain, yval = train_test_split(df_X, df_y, test_size = 0.3, random_state = 19 ) "
   ]
  },
  {
   "cell_type": "code",
   "execution_count": 17,
   "metadata": {
    "scrolled": true
   },
   "outputs": [],
   "source": [
    "ytrain=ytrain.astype(int)\n",
    "yval=yval.astype(int)"
   ]
  },
  {
   "cell_type": "code",
   "execution_count": 18,
   "metadata": {},
   "outputs": [
    {
     "name": "stdout",
     "output_type": "stream",
     "text": [
      "(100942, 25) (43261, 25) (100942,) (43261,)\n"
     ]
    }
   ],
   "source": [
    "print( xtrain.shape, xval.shape, ytrain.shape, yval.shape)"
   ]
  },
  {
   "cell_type": "markdown",
   "metadata": {},
   "source": [
    "### Model Selection"
   ]
  },
  {
   "cell_type": "markdown",
   "metadata": {},
   "source": [
    "We evaluate a few simple yet robust classification models and choose the best one for our primary working model in the main notebook"
   ]
  },
  {
   "cell_type": "code",
   "execution_count": 19,
   "metadata": {},
   "outputs": [],
   "source": [
    "def metrics(ytruth, pred):\n",
    "    \"\"\"\n",
    "    Function to evaluate models against models \n",
    "    \"\"\"\n",
    "    print('accuracy score: ', accuracy_score(ytruth, pred))\n",
    "    #print('RMSE:', mean_squared_error(ytest,pred))\n",
    "    print('Recall score: ', recall_score(ytruth,pred))\n",
    "    \n",
    "    #print('average_precision_score: ', average_precision_score(ytest,pred))\n",
    "    print('Precision Score: ',precision_score(ytruth,pred))\n",
    "    print('F1_score: ',f1_score(ytruth, pred))\n",
    "    #print('roc_auc_score: ', roc_auc_score(ytest, pred))"
   ]
  },
  {
   "cell_type": "code",
   "execution_count": 20,
   "metadata": {},
   "outputs": [],
   "source": [
    "def logisticRegression(xtrain,xval, ytrain, yval):\n",
    "    LR = LogisticRegression()\n",
    "    model = LR.fit(xtrain, ytrain)\n",
    "    pred = model.predict(xval)\n",
    "    metrics(yval,pred)"
   ]
  },
  {
   "cell_type": "code",
   "execution_count": 21,
   "metadata": {},
   "outputs": [],
   "source": [
    "def randomForestClassifier(xtrain,xval,ytrain,yval,n_estimators=25,min_samples_split=25,max_depth=5,random_state=72):\n",
    "    RF = RandomForestClassifier(n_estimators = 25, min_samples_split=25, max_depth =5, random_state=72)\n",
    "    \n",
    "    model = RF.fit(xtrain,ytrain)\n",
    "    pred = RF.predict(xval)\n",
    "    metrics(yval, pred)"
   ]
  },
  {
   "cell_type": "code",
   "execution_count": 23,
   "metadata": {},
   "outputs": [],
   "source": [
    "def xgbClassifier(xtrain,xval,ytrain,yval, max_depth=9, n_estimators=50, learning_rate=0.05, objective='binary:logistic'):\n",
    "    xgb = xgboost.XGBClassifier( max_depth=9, n_estimators=50, learning_rate=0.05, objective='binary:logistic')\n",
    "    \n",
    "    model = xgb.fit(xtrain,ytrain.values)\n",
    "    pred = xgb.predict(xval)\n",
    "    metrics(yval, pred)"
   ]
  },
  {
   "cell_type": "code",
   "execution_count": 26,
   "metadata": {
    "scrolled": true
   },
   "outputs": [
    {
     "name": "stdout",
     "output_type": "stream",
     "text": [
      "accuracy score:  0.8113312221169182\n",
      "Recall score:  0.030930470347648262\n",
      "Precision Score:  0.2944038929440389\n",
      "F1_score:  0.0559796437659033\n"
     ]
    }
   ],
   "source": [
    "logisticRegression(xtrain,xval, ytrain, yval)"
   ]
  },
  {
   "cell_type": "code",
   "execution_count": 27,
   "metadata": {},
   "outputs": [
    {
     "name": "stdout",
     "output_type": "stream",
     "text": [
      "accuracy score:  0.9109128314185987\n",
      "Recall score:  0.5866564417177914\n",
      "Precision Score:  0.8809980806142035\n",
      "F1_score:  0.704311799907933\n"
     ]
    }
   ],
   "source": [
    "randomForestClassifier(xtrain,xval,ytrain,yval, n_estimators=20,min_samples_split=2,max_depth=25,random_state=72)"
   ]
  },
  {
   "cell_type": "code",
   "execution_count": 28,
   "metadata": {},
   "outputs": [
    {
     "name": "stdout",
     "output_type": "stream",
     "text": [
      "43261\n",
      "accuracy score:  0.9435750444973533\n",
      "Recall score:  0.7998466257668712\n",
      "Precision Score:  0.8773307163886163\n",
      "F1_score:  0.8367988232934412\n"
     ]
    },
    {
     "name": "stderr",
     "output_type": "stream",
     "text": [
      "C:\\Users\\Prakash14\\Anaconda3\\envs\\carnd-term1\\lib\\site-packages\\sklearn\\preprocessing\\label.py:151: DeprecationWarning: The truth value of an empty array is ambiguous. Returning False, but in future this will result in an error. Use `array.size > 0` to check that an array is not empty.\n",
      "  if diff:\n"
     ]
    }
   ],
   "source": [
    "xgbClassifier(xtrain,xval,ytrain,yval)"
   ]
  },
  {
   "cell_type": "markdown",
   "metadata": {},
   "source": [
    "Although the random forest model has a relatively high accuracy of 91, the xgb has a higher accuracy and a much higher recall score of 0.81.\n",
    "\n",
    "I think this value is of more importance as it highlights the number of times a machine required maintenance and it was correctly flagged to be repaired. \n",
    "\n",
    "In the real world, poor performance with this metric would lead to greater repair costs due to poorer prediction of failure. "
   ]
  }
 ],
 "metadata": {
  "kernelspec": {
   "display_name": "Python [default]",
   "language": "python",
   "name": "python3"
  },
  "language_info": {
   "codemirror_mode": {
    "name": "ipython",
    "version": 3
   },
   "file_extension": ".py",
   "mimetype": "text/x-python",
   "name": "python",
   "nbconvert_exporter": "python",
   "pygments_lexer": "ipython3",
   "version": "3.5.2"
  },
  "widgets": {
   "state": {},
   "version": "1.1.2"
  }
 },
 "nbformat": 4,
 "nbformat_minor": 2
}
