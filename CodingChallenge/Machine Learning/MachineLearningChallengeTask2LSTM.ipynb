{
 "cells": [
  {
   "cell_type": "markdown",
   "metadata": {},
   "source": [
    "# Machine Learning Challenge\n",
    "\n",
    "Below are 2 data challenges that test for your ability to:\n",
    "- Wrangle/clean data to make it usable by a model\n",
    "- Figure out how to set up X's and y's for a use case, given a dataset\n",
    "- Write code to robustly and reproducibly preprocess data\n",
    "- Pick/design the right model, and tune hyperparameters to get the best performance\n",
    "\n",
    "You can use any programming language, model, and package to solve these problems. Let us know of any assumptions you make in your process.\n",
    "\n",
    "#### Deliverables:\n",
    "- A link to a github repository that contains:\n",
    "    - Clearly commented code that was written to solve these problems\n",
    "    - Your trained models stored in a file (`.pkl`, `.h5`, `.tar` - whatever is appropriate). The models must have `predict(X)` functions. \n",
    "    - A readme file that contains:\n",
    "        - Instructions to easily access/load the above\n",
    "        - A writeup explaining any significant design decisions and your reasons for making them. \n",
    "        - If needed, a brief writeup explaining anything you are particularly proud of in your implementation that you might want us to focus on\n",
    "\n",
    "#### How we'll assess your work:\n",
    "- Accuracy/RMSE of your model when predicting on held-out data\n",
    "- How well various edge cases are handled when testing on held-out data. For example, if the held-out data contains:\n",
    "    - A new column that wasn't present in the dataset given to you\n",
    "    - New value in a categorical field that wasn't seen in the dataset given to you\n",
    "    - NA values\n",
    "- Efficiency of the code. \n",
    "    - Is it easy to understand? \n",
    "    - Are the variable names descriptive? \n",
    "    - Are there any variables created that aren't used? \n",
    "    - Is redundant code replaced with function calls? \n",
    "    - Is vectorized implementation used instead of nested for loops? \n",
    "    - Are classes defined and objects created where applicable? \n",
    "    - Are packages used to perform tasks instead of implementing them from scratch?\n",
    "    \n",
    "**NOTE:** Your stored models, once loaded, should *just work* when fed with our held-out data (which looks similar to the data we've given you). We won't do any preprocessing before we feed it into the model's `predict(X)` function; `predict(X)` should handle the preprocessing. Pay particular attention to handling the edge cases we've talked about.\n",
    "\n",
    "Feel free to ask questions to clarify things. Submit everything you tried, not just the things that worked. I encourage you to try and showcase your talents. The more you go above and beyond what's expected, the more impressed we'll be. **Bonus points if you fit Keras/Tensorflow/Pytorch/Caffe models** in addition to your Linear/Tree-based models."
   ]
  },
  {
   "cell_type": "markdown",
   "metadata": {},
   "source": [
    "## 0. Import dependencies"
   ]
  },
  {
   "cell_type": "code",
   "execution_count": 2,
   "metadata": {},
   "outputs": [
    {
     "name": "stderr",
     "output_type": "stream",
     "text": [
      "C:\\Users\\Prakash14\\Anaconda3\\envs\\carnd-term1\\lib\\site-packages\\sklearn\\ensemble\\weight_boosting.py:29: DeprecationWarning: numpy.core.umath_tests is an internal NumPy module and should not be imported. It will be removed in a future NumPy release.\n",
      "  from numpy.core.umath_tests import inner1d\n",
      "Using TensorFlow backend.\n"
     ]
    }
   ],
   "source": [
    "import pandas as pd\n",
    "import numpy as np\n",
    "import pickle as pkl\n",
    "import matplotlib.pyplot as plt\n",
    "\n",
    "\n",
    "from sklearn import preprocessing as scale\n",
    "from sklearn.utils import resample\n",
    "from sklearn.model_selection import train_test_split\n",
    "from sklearn.externals import joblib\n",
    "\n",
    "from sklearn.ensemble import RandomForestClassifier, RandomForestRegressor\n",
    "from sklearn.metrics import mean_squared_error, accuracy_score, average_precision_score, precision_score, f1_score,recall_score, roc_auc_score\n",
    "\n",
    "from math import sqrt\n",
    "from numpy import concatenate\n",
    "from keras.models import Sequential\n",
    "from keras.layers import Dense\n",
    "from keras.layers import LSTM"
   ]
  },
  {
   "cell_type": "markdown",
   "metadata": {},
   "source": [
    "### Functions used in previous models"
   ]
  },
  {
   "cell_type": "code",
   "execution_count": 5,
   "metadata": {},
   "outputs": [],
   "source": [
    "def preProcess(df):\n",
    "    \"\"\"\n",
    "    Function to preprocess similar datasets: \n",
    "    Takes in a dataframe, checks for null values, replaces categorical value columns with dummy variables\n",
    "    and fills the remaining null values in the numerical columns with the means of that column\"\"\"\n",
    "    \n",
    "    df.fillna(method='ffill', inplace=True)         #As the data is arranged chronologically, we fill the next missing variable with that of the previous hour/day\n",
    "    df.fillna(method='bfill', inplace=True)         #Incase some NaNs are at the start\n",
    "    \n",
    "    categorical_columns = df.select_dtypes(include=['object'])\n",
    "    dummy_columns = pd.get_dummies(categorical_columns)\n",
    "    \n",
    "    df = pd.concat([df.drop(categorical_columns, axis=1), dummy_columns], axis=1)\n",
    "    \n",
    "    return df"
   ]
  },
  {
   "cell_type": "code",
   "execution_count": 1,
   "metadata": {},
   "outputs": [],
   "source": [
    "def dataSplit(df_X, y, dtype, test_size=0.2):\n",
    "    \"\"\"Function to split the training data into training, validation, and testing size and convert target variable to required type\"\"\"\n",
    "    xtrain, xtest, ytrain, ytest = train_test_split(df_X, y, test_size = test_size, random_state = 19)\n",
    "    \n",
    "    ytrain, ytest = ytrain.astype(dtype), ytest.astype(dtype)\n",
    "    return xtrain, xtest, ytrain, ytest"
   ]
  },
  {
   "cell_type": "markdown",
   "metadata": {},
   "source": [
    "## Task 2\n",
    "`forecasting_dataset.csv` is a file that contains pollution data for a city. Your task is to create a model that, when fed with columns `co_gt`, `nhmc`, `c6h6`, `s2`, `nox`, `s3`, `no2`, `s4`, `s5`, `t`, `rh`, `ah`, and `level`, predicts the value of `y` six hours later.\n",
    "\n",
    "**NOTE:** In the data we've given you, the value of `y` for a given row is the value of `y` *for the timestamp of that same row*. We're asking you to predict the value of `y` 6 hours *after the timestamp of that row*."
   ]
  },
  {
   "cell_type": "code",
   "execution_count": null,
   "metadata": {
    "scrolled": true
   },
   "outputs": [],
   "source": [
    "## What the data that we'll feed into your model's predict(X) function will look like:\n",
    "# Notice what the level column looks like\n",
    "pd.read_csv(\"forecasting_dataset.csv\").drop(labels=['date', 'time', 'y'], axis='columns')"
   ]
  },
  {
   "cell_type": "code",
   "execution_count": 3,
   "metadata": {
    "scrolled": true
   },
   "outputs": [],
   "source": [
    "df = pd.read_csv(\"forecasting_dataset.csv\", parse_dates=[['date','time']]).sort_values(by = ['date_time'])\n"
   ]
  },
  {
   "cell_type": "code",
   "execution_count": 6,
   "metadata": {
    "scrolled": true
   },
   "outputs": [],
   "source": [
    "df = preProcess(df.drop(['date_time'], axis =1))\n"
   ]
  },
  {
   "cell_type": "code",
   "execution_count": 7,
   "metadata": {
    "scrolled": true
   },
   "outputs": [],
   "source": [
    "df['y_6_hours_later'] = df.y.shift(-6)\n",
    "df.dropna(inplace=True)"
   ]
  },
  {
   "cell_type": "code",
   "execution_count": 8,
   "metadata": {},
   "outputs": [],
   "source": [
    "matrix = df.drop('y', axis=1).values\n",
    "MinMax = scale.MinMaxScaler(feature_range=[-1,1])\n",
    "scaled_data = MinMax.fit_transform(matrix)"
   ]
  },
  {
   "cell_type": "code",
   "execution_count": 9,
   "metadata": {},
   "outputs": [
    {
     "data": {
      "text/plain": [
       "array([[ 0.91222275, -0.49604032,  0.60712931, ..., -1.        ,\n",
       "        -1.        ,  0.23660714],\n",
       "       [ 0.9065597 , -0.55075594,  0.58816837, ..., -1.        ,\n",
       "        -1.        ,  0.19285714],\n",
       "       [ 0.90844738, -0.58531317,  0.58513462, ..., -1.        ,\n",
       "        -1.        ,  0.15535714],\n",
       "       ...,\n",
       "       [ 0.8952336 , -1.        ,  0.53962837, ..., -1.        ,\n",
       "        -1.        ,  0.125     ],\n",
       "       [ 0.90184049, -1.        ,  0.55858931, ..., -1.        ,\n",
       "        -1.        ,  0.17946429],\n",
       "       [ 0.91694195, -1.        ,  0.61471369, ..., -1.        ,\n",
       "        -1.        ,  0.17678571]])"
      ]
     },
     "execution_count": 9,
     "metadata": {},
     "output_type": "execute_result"
    }
   ],
   "source": [
    "scaled_data"
   ]
  },
  {
   "cell_type": "code",
   "execution_count": 10,
   "metadata": {},
   "outputs": [],
   "source": [
    "X = scaled_data[:,:17]\n",
    "y = scaled_data[:,17:]"
   ]
  },
  {
   "cell_type": "code",
   "execution_count": 11,
   "metadata": {},
   "outputs": [
    {
     "data": {
      "text/plain": [
       "(8415, 18)"
      ]
     },
     "execution_count": 11,
     "metadata": {},
     "output_type": "execute_result"
    }
   ],
   "source": [
    "scaled_data.shape"
   ]
  },
  {
   "cell_type": "markdown",
   "metadata": {},
   "source": [
    "### Modelling"
   ]
  },
  {
   "cell_type": "code",
   "execution_count": 12,
   "metadata": {},
   "outputs": [],
   "source": [
    "xtrain, xtest, ytrain, ytest = dataSplit(X, y, float, test_size=0.75)"
   ]
  },
  {
   "cell_type": "code",
   "execution_count": 13,
   "metadata": {},
   "outputs": [
    {
     "data": {
      "text/plain": [
       "(2103, 17)"
      ]
     },
     "execution_count": 13,
     "metadata": {},
     "output_type": "execute_result"
    }
   ],
   "source": [
    "xtrain.shape"
   ]
  },
  {
   "cell_type": "code",
   "execution_count": 14,
   "metadata": {},
   "outputs": [
    {
     "name": "stdout",
     "output_type": "stream",
     "text": [
      "(2103, 1, 17) (2103, 1) (6312, 1, 17) (6312, 1)\n"
     ]
    }
   ],
   "source": [
    "xtrain = xtrain.reshape((xtrain.shape[0],1,xtrain.shape[1]))\n",
    "xtest = xtest.reshape((xtest.shape[0],1,xtest.shape[1]))\n",
    "print(xtrain.shape, ytrain.shape, xtest.shape,ytest.shape)"
   ]
  },
  {
   "cell_type": "markdown",
   "metadata": {},
   "source": [
    "### Network"
   ]
  },
  {
   "cell_type": "code",
   "execution_count": 15,
   "metadata": {},
   "outputs": [],
   "source": [
    "model = Sequential()\n",
    "model.add(LSTM(20, input_shape = (xtrain.shape[1],xtrain.shape[2])))\n",
    "model.add(Dense(1))\n",
    "model.compile(loss='mse', optimizer='adam')"
   ]
  },
  {
   "cell_type": "code",
   "execution_count": 16,
   "metadata": {
    "scrolled": true
   },
   "outputs": [
    {
     "name": "stdout",
     "output_type": "stream",
     "text": [
      "Train on 2103 samples, validate on 6312 samples\n",
      "Epoch 1/50\n",
      "0s - loss: 0.0904 - val_loss: 0.0766\n",
      "Epoch 2/50\n",
      "0s - loss: 0.0661 - val_loss: 0.0631\n",
      "Epoch 3/50\n",
      "0s - loss: 0.0559 - val_loss: 0.0580\n",
      "Epoch 4/50\n",
      "0s - loss: 0.0514 - val_loss: 0.0561\n",
      "Epoch 5/50\n",
      "0s - loss: 0.0494 - val_loss: 0.0558\n",
      "Epoch 6/50\n",
      "0s - loss: 0.0486 - val_loss: 0.0558\n",
      "Epoch 7/50\n",
      "0s - loss: 0.0482 - val_loss: 0.0557\n",
      "Epoch 8/50\n",
      "0s - loss: 0.0479 - val_loss: 0.0556\n",
      "Epoch 9/50\n",
      "0s - loss: 0.0477 - val_loss: 0.0554\n",
      "Epoch 10/50\n",
      "0s - loss: 0.0474 - val_loss: 0.0553\n",
      "Epoch 11/50\n",
      "0s - loss: 0.0472 - val_loss: 0.0552\n",
      "Epoch 12/50\n",
      "0s - loss: 0.0470 - val_loss: 0.0551\n",
      "Epoch 13/50\n",
      "0s - loss: 0.0469 - val_loss: 0.0550\n",
      "Epoch 14/50\n",
      "0s - loss: 0.0467 - val_loss: 0.0549\n",
      "Epoch 15/50\n",
      "0s - loss: 0.0466 - val_loss: 0.0548\n",
      "Epoch 16/50\n",
      "0s - loss: 0.0464 - val_loss: 0.0548\n",
      "Epoch 17/50\n",
      "0s - loss: 0.0463 - val_loss: 0.0547\n",
      "Epoch 18/50\n",
      "0s - loss: 0.0462 - val_loss: 0.0547\n",
      "Epoch 19/50\n",
      "0s - loss: 0.0461 - val_loss: 0.0546\n",
      "Epoch 20/50\n",
      "0s - loss: 0.0460 - val_loss: 0.0546\n",
      "Epoch 21/50\n",
      "0s - loss: 0.0459 - val_loss: 0.0545\n",
      "Epoch 22/50\n",
      "0s - loss: 0.0459 - val_loss: 0.0545\n",
      "Epoch 23/50\n",
      "0s - loss: 0.0458 - val_loss: 0.0545\n",
      "Epoch 24/50\n",
      "0s - loss: 0.0457 - val_loss: 0.0544\n",
      "Epoch 25/50\n",
      "0s - loss: 0.0457 - val_loss: 0.0544\n",
      "Epoch 26/50\n",
      "0s - loss: 0.0456 - val_loss: 0.0544\n",
      "Epoch 27/50\n",
      "0s - loss: 0.0456 - val_loss: 0.0543\n",
      "Epoch 28/50\n",
      "0s - loss: 0.0455 - val_loss: 0.0543\n",
      "Epoch 29/50\n",
      "0s - loss: 0.0455 - val_loss: 0.0543\n",
      "Epoch 30/50\n",
      "0s - loss: 0.0454 - val_loss: 0.0543\n",
      "Epoch 31/50\n",
      "0s - loss: 0.0454 - val_loss: 0.0543\n",
      "Epoch 32/50\n",
      "0s - loss: 0.0453 - val_loss: 0.0542\n",
      "Epoch 33/50\n",
      "0s - loss: 0.0453 - val_loss: 0.0542\n",
      "Epoch 34/50\n",
      "0s - loss: 0.0452 - val_loss: 0.0542\n",
      "Epoch 35/50\n",
      "0s - loss: 0.0452 - val_loss: 0.0542\n",
      "Epoch 36/50\n",
      "0s - loss: 0.0452 - val_loss: 0.0542\n",
      "Epoch 37/50\n",
      "0s - loss: 0.0451 - val_loss: 0.0542\n",
      "Epoch 38/50\n",
      "0s - loss: 0.0451 - val_loss: 0.0541\n",
      "Epoch 39/50\n",
      "0s - loss: 0.0451 - val_loss: 0.0541\n",
      "Epoch 40/50\n",
      "0s - loss: 0.0450 - val_loss: 0.0541\n",
      "Epoch 41/50\n",
      "0s - loss: 0.0450 - val_loss: 0.0541\n",
      "Epoch 42/50\n",
      "0s - loss: 0.0450 - val_loss: 0.0541\n",
      "Epoch 43/50\n",
      "0s - loss: 0.0449 - val_loss: 0.0541\n",
      "Epoch 44/50\n",
      "0s - loss: 0.0449 - val_loss: 0.0541\n",
      "Epoch 45/50\n",
      "0s - loss: 0.0449 - val_loss: 0.0540\n",
      "Epoch 46/50\n",
      "0s - loss: 0.0449 - val_loss: 0.0540\n",
      "Epoch 47/50\n",
      "0s - loss: 0.0448 - val_loss: 0.0540\n",
      "Epoch 48/50\n",
      "0s - loss: 0.0448 - val_loss: 0.0540\n",
      "Epoch 49/50\n",
      "0s - loss: 0.0448 - val_loss: 0.0540\n",
      "Epoch 50/50\n",
      "0s - loss: 0.0448 - val_loss: 0.0540\n"
     ]
    },
    {
     "data": {
      "image/png": "[encoded data removed]",
      "text/plain": [
       "<matplotlib.figure.Figure at 0x1de552cb3c8>"
      ]
     },
     "metadata": {},
     "output_type": "display_data"
    }
   ],
   "source": [
    "#fit\n",
    "history = model.fit(xtrain, ytrain, nb_epoch=50, batch_size=128, validation_data=(xtest,ytest), verbose=2, shuffle=False)\n",
    "plt.plot(history.history['loss'], label='train')\n",
    "plt.plot(history.history['val_loss'], label='test')\n",
    "plt.legend()\n",
    "plt.show()"
   ]
  },
  {
   "cell_type": "markdown",
   "metadata": {},
   "source": [
    "### Evaluation"
   ]
  },
  {
   "cell_type": "code",
   "execution_count": 17,
   "metadata": {},
   "outputs": [],
   "source": [
    "y_pred = model.predict(xtest)\n",
    "xtest = xtest.reshape((xtest.shape[0], xtest.shape[2])) #reshaping it back"
   ]
  },
  {
   "cell_type": "code",
   "execution_count": 18,
   "metadata": {},
   "outputs": [
    {
     "data": {
      "text/plain": [
       "(6312, 17)"
      ]
     },
     "execution_count": 18,
     "metadata": {},
     "output_type": "execute_result"
    }
   ],
   "source": [
    "xtest.shape"
   ]
  },
  {
   "cell_type": "code",
   "execution_count": 19,
   "metadata": {},
   "outputs": [
    {
     "name": "stdout",
     "output_type": "stream",
     "text": [
      "(6312, 18)\n"
     ]
    }
   ],
   "source": [
    "#inver scaling to forecast\n",
    "y_pred_inv = concatenate((y_pred, xtest[:,:]), axis=1)\n",
    "print(y_pred_inv.shape)\n",
    "y_pred_inv = MinMax.inverse_transform(y_pred_inv)\n",
    "y_pred_inv = y_pred_inv[:,0]"
   ]
  },
  {
   "cell_type": "code",
   "execution_count": 20,
   "metadata": {},
   "outputs": [],
   "source": [
    "#inver scaling for truth value\n",
    "ytest = ytest.reshape((len(ytest),1))\n",
    "y_inv = concatenate((ytest, xtest[:,:]), axis=1)\n",
    "y_inv = MinMax.inverse_transform(y_inv)\n",
    "y_inv = y_inv[:,0]"
   ]
  },
  {
   "cell_type": "code",
   "execution_count": 21,
   "metadata": {},
   "outputs": [],
   "source": [
    "rmse = sqrt(mean_squared_error(y_inv, y_pred_inv))"
   ]
  },
  {
   "cell_type": "code",
   "execution_count": 22,
   "metadata": {},
   "outputs": [
    {
     "data": {
      "text/plain": [
       "24.61316980929556"
      ]
     },
     "execution_count": 22,
     "metadata": {},
     "output_type": "execute_result"
    }
   ],
   "source": [
    "rmse"
   ]
  }
 ],
 "metadata": {
  "kernelspec": {
   "display_name": "Python [default]",
   "language": "python",
   "name": "python3"
  },
  "language_info": {
   "codemirror_mode": {
    "name": "ipython",
    "version": 3
   },
   "file_extension": ".py",
   "mimetype": "text/x-python",
   "name": "python",
   "nbconvert_exporter": "python",
   "pygments_lexer": "ipython3",
   "version": "3.5.2"
  },
  "widgets": {
   "state": {},
   "version": "1.1.2"
  }
 },
 "nbformat": 4,
 "nbformat_minor": 2
}
