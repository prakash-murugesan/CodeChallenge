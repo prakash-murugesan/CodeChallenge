{
 "cells": [
  {
   "cell_type": "markdown",
   "metadata": {},
   "source": [
    "# Machine Learning Challenge\n",
    "\n",
    "Below are 2 data challenges that test for your ability to:\n",
    "- Wrangle/clean data to make it usable by a model\n",
    "- Figure out how to set up X's and y's for a use case, given a dataset\n",
    "- Write code to robustly and reproducibly preprocess data\n",
    "- Pick/design the right model, and tune hyperparameters to get the best performance\n",
    "\n",
    "You can use any programming language, model, and package to solve these problems. Let us know of any assumptions you make in your process.\n",
    "\n",
    "#### Deliverables:\n",
    "- A link to a github repository that contains:\n",
    "    - Clearly commented code that was written to solve these problems\n",
    "    - Your trained models stored in a file (`.pkl`, `.h5`, `.tar` - whatever is appropriate). The models must have `predict(X)` functions. \n",
    "    - A readme file that contains:\n",
    "        - Instructions to easily access/load the above\n",
    "        - A writeup explaining any significant design decisions and your reasons for making them. \n",
    "        - If needed, a brief writeup explaining anything you are particularly proud of in your implementation that you might want us to focus on\n",
    "\n",
    "#### How we'll assess your work:\n",
    "- Accuracy/RMSE of your model when predicting on held-out data\n",
    "- How well various edge cases are handled when testing on held-out data. For example, if the held-out data contains:\n",
    "    - A new column that wasn't present in the dataset given to you\n",
    "    - New value in a categorical field that wasn't seen in the dataset given to you\n",
    "    - NA values\n",
    "- Efficiency of the code. \n",
    "    - Is it easy to understand? \n",
    "    - Are the variable names descriptive? \n",
    "    - Are there any variables created that aren't used? \n",
    "    - Is redundant code replaced with function calls? \n",
    "    - Is vectorized implementation used instead of nested for loops? \n",
    "    - Are classes defined and objects created where applicable? \n",
    "    - Are packages used to perform tasks instead of implementing them from scratch?\n",
    "    \n",
    "**NOTE:** Your stored models, once loaded, should *just work* when fed with our held-out data (which looks similar to the data we've given you). We won't do any preprocessing before we feed it into the model's `predict(X)` function; `predict(X)` should handle the preprocessing. Pay particular attention to handling the edge cases we've talked about.\n",
    "\n",
    "Feel free to ask questions to clarify things. Submit everything you tried, not just the things that worked. I encourage you to try and showcase your talents. The more you go above and beyond what's expected, the more impressed we'll be. **Bonus points if you fit Keras/Tensorflow/Pytorch/Caffe models** in addition to your Linear/Tree-based models."
   ]
  },
  {
   "cell_type": "markdown",
   "metadata": {},
   "source": [
    "## 0. Import dependencies"
   ]
  },
  {
   "cell_type": "code",
   "execution_count": 3,
   "metadata": {},
   "outputs": [],
   "source": [
    "import pandas as pd\n",
    "import numpy as np\n",
    "import pickle as pkl\n",
    "import matplotlib.pyplot as plt\n",
    "\n",
    "\n",
    "from sklearn import preprocessing as scale\n",
    "from sklearn.utils import resample\n",
    "from sklearn.model_selection import train_test_split\n",
    "from sklearn.externals import joblib\n",
    "\n",
    "from sklearn.metrics import mean_squared_error\n",
    "from math import sqrt\n",
    "from numpy import concatenate\n",
    "\n",
    "from keras.models import Sequential\n",
    "from keras.layers import Dense\n",
    "from keras.layers import LSTM"
   ]
  },
  {
   "cell_type": "markdown",
   "metadata": {},
   "source": [
    "### Functions used in previous models"
   ]
  },
  {
   "cell_type": "code",
   "execution_count": 72,
   "metadata": {},
   "outputs": [],
   "source": [
    "def preProcess(df):\n",
    "    \"\"\"\n",
    "    Function to preprocess similar datasets: \n",
    "    Takes in a dataframe, checks for null values, replaces categorical value columns with dummy variables\n",
    "    and fills the remaining null values in the numerical columns with the means of that column\"\"\"\n",
    "    \n",
    "    df.fillna(method='ffill', inplace=True)         #As the data is arranged chronologically, we fill the next missing variable with that of the previous hour/day\n",
    "    df.fillna(method='bfill', inplace=True)         #Incase some NaNs are at the start\n",
    "    \n",
    "    categorical_columns = df.select_dtypes(include=['object'])\n",
    "    dummy_columns = pd.get_dummies(categorical_columns)\n",
    "    \n",
    "    df = pd.concat([df.drop(categorical_columns, axis=1), dummy_columns], axis=1)\n",
    "    \n",
    "    return df"
   ]
  },
  {
   "cell_type": "code",
   "execution_count": 73,
   "metadata": {},
   "outputs": [],
   "source": [
    "def dataSplit(df_X, y, dtype, test_size=0.2):\n",
    "    \"\"\"Function to split the training data into training, validation, and testing size and convert target variable to required type\"\"\"\n",
    "    xtrain, xtest, ytrain, ytest = train_test_split(df_X, y, test_size = test_size, random_state = 19)\n",
    "    \n",
    "    ytrain, ytest = ytrain.astype(dtype), ytest.astype(dtype)\n",
    "    return xtrain, xtest, ytrain, ytest"
   ]
  },
  {
   "cell_type": "markdown",
   "metadata": {},
   "source": [
    "## Task 2\n",
    "`forecasting_dataset.csv` is a file that contains pollution data for a city. Your task is to create a model that, when fed with columns `co_gt`, `nhmc`, `c6h6`, `s2`, `nox`, `s3`, `no2`, `s4`, `s5`, `t`, `rh`, `ah`, and `level`, predicts the value of `y` six hours later.\n",
    "\n",
    "**NOTE:** In the data we've given you, the value of `y` for a given row is the value of `y` *for the timestamp of that same row*. We're asking you to predict the value of `y` 6 hours *after the timestamp of that row*."
   ]
  },
  {
   "cell_type": "markdown",
   "metadata": {},
   "source": [
    "Initially we follow the same process to prep the data as the last two notebooks"
   ]
  },
  {
   "cell_type": "code",
   "execution_count": 74,
   "metadata": {
    "scrolled": true
   },
   "outputs": [
    {
     "data": {
      "text/html": [
       "<div>\n",
       "<style scoped>\n",
       "    .dataframe tbody tr th:only-of-type {\n",
       "        vertical-align: middle;\n",
       "    }\n",
       "\n",
       "    .dataframe tbody tr th {\n",
       "        vertical-align: top;\n",
       "    }\n",
       "\n",
       "    .dataframe thead th {\n",
       "        text-align: right;\n",
       "    }\n",
       "</style>\n",
       "<table border=\"1\" class=\"dataframe\">\n",
       "  <thead>\n",
       "    <tr style=\"text-align: right;\">\n",
       "      <th></th>\n",
       "      <th>co_gt</th>\n",
       "      <th>nhmc</th>\n",
       "      <th>c6h6</th>\n",
       "      <th>s2</th>\n",
       "      <th>nox</th>\n",
       "      <th>s3</th>\n",
       "      <th>no2</th>\n",
       "      <th>s4</th>\n",
       "      <th>s5</th>\n",
       "      <th>t</th>\n",
       "      <th>rh</th>\n",
       "      <th>ah</th>\n",
       "      <th>level</th>\n",
       "    </tr>\n",
       "  </thead>\n",
       "  <tbody>\n",
       "    <tr>\n",
       "      <th>0</th>\n",
       "      <td>-200.0</td>\n",
       "      <td>-200.0</td>\n",
       "      <td>7.2</td>\n",
       "      <td>867.0</td>\n",
       "      <td>-200.0</td>\n",
       "      <td>834.0</td>\n",
       "      <td>-200.0</td>\n",
       "      <td>1314.0</td>\n",
       "      <td>891.0</td>\n",
       "      <td>14.8</td>\n",
       "      <td>57.3</td>\n",
       "      <td>0.9603</td>\n",
       "      <td>NaN</td>\n",
       "    </tr>\n",
       "    <tr>\n",
       "      <th>1</th>\n",
       "      <td>0.5</td>\n",
       "      <td>-200.0</td>\n",
       "      <td>3.9</td>\n",
       "      <td>704.0</td>\n",
       "      <td>-200.0</td>\n",
       "      <td>861.0</td>\n",
       "      <td>-200.0</td>\n",
       "      <td>1603.0</td>\n",
       "      <td>860.0</td>\n",
       "      <td>24.4</td>\n",
       "      <td>65.0</td>\n",
       "      <td>1.9612</td>\n",
       "      <td>Low</td>\n",
       "    </tr>\n",
       "    <tr>\n",
       "      <th>2</th>\n",
       "      <td>3.7</td>\n",
       "      <td>-200.0</td>\n",
       "      <td>23.3</td>\n",
       "      <td>1386.0</td>\n",
       "      <td>NaN</td>\n",
       "      <td>626.0</td>\n",
       "      <td>109.0</td>\n",
       "      <td>2138.0</td>\n",
       "      <td>NaN</td>\n",
       "      <td>23.3</td>\n",
       "      <td>38.6</td>\n",
       "      <td>1.0919</td>\n",
       "      <td>High</td>\n",
       "    </tr>\n",
       "    <tr>\n",
       "      <th>3</th>\n",
       "      <td>2.1</td>\n",
       "      <td>-200.0</td>\n",
       "      <td>12.1</td>\n",
       "      <td>1052.0</td>\n",
       "      <td>183.0</td>\n",
       "      <td>779.0</td>\n",
       "      <td>NaN</td>\n",
       "      <td>1690.0</td>\n",
       "      <td>952.0</td>\n",
       "      <td>28.5</td>\n",
       "      <td>27.3</td>\n",
       "      <td>1.0479</td>\n",
       "      <td>High</td>\n",
       "    </tr>\n",
       "    <tr>\n",
       "      <th>4</th>\n",
       "      <td>4.4</td>\n",
       "      <td>-200.0</td>\n",
       "      <td>21.7</td>\n",
       "      <td>1342.0</td>\n",
       "      <td>786.0</td>\n",
       "      <td>499.0</td>\n",
       "      <td>206.0</td>\n",
       "      <td>1546.0</td>\n",
       "      <td>2006.0</td>\n",
       "      <td>12.9</td>\n",
       "      <td>54.1</td>\n",
       "      <td>0.8003</td>\n",
       "      <td>High</td>\n",
       "    </tr>\n",
       "  </tbody>\n",
       "</table>\n",
       "</div>"
      ],
      "text/plain": [
       "   co_gt   nhmc  c6h6      s2    nox     s3    no2      s4      s5     t  \\\n",
       "0 -200.0 -200.0   7.2   867.0 -200.0  834.0 -200.0  1314.0   891.0  14.8   \n",
       "1    0.5 -200.0   3.9   704.0 -200.0  861.0 -200.0  1603.0   860.0  24.4   \n",
       "2    3.7 -200.0  23.3  1386.0    NaN  626.0  109.0  2138.0     NaN  23.3   \n",
       "3    2.1 -200.0  12.1  1052.0  183.0  779.0    NaN  1690.0   952.0  28.5   \n",
       "4    4.4 -200.0  21.7  1342.0  786.0  499.0  206.0  1546.0  2006.0  12.9   \n",
       "\n",
       "     rh      ah level  \n",
       "0  57.3  0.9603   NaN  \n",
       "1  65.0  1.9612   Low  \n",
       "2  38.6  1.0919  High  \n",
       "3  27.3  1.0479  High  \n",
       "4  54.1  0.8003  High  "
      ]
     },
     "execution_count": 74,
     "metadata": {},
     "output_type": "execute_result"
    }
   ],
   "source": [
    "## What the data that we'll feed into your model's predict(X) function will look like:\n",
    "# Notice what the level column looks like\n",
    "pd.read_csv(\"forecasting_dataset.csv\").drop(labels=['date', 'time', 'y'], axis='columns').head()"
   ]
  },
  {
   "cell_type": "code",
   "execution_count": 75,
   "metadata": {
    "scrolled": true
   },
   "outputs": [],
   "source": [
    "df = pd.read_csv(\"forecasting_dataset.csv\", parse_dates=[['date','time']]).sort_values(by = ['date_time'])\n"
   ]
  },
  {
   "cell_type": "code",
   "execution_count": 76,
   "metadata": {
    "scrolled": true
   },
   "outputs": [],
   "source": [
    "df = preProcess(df.drop(['date_time'], axis =1))\n"
   ]
  },
  {
   "cell_type": "code",
   "execution_count": 77,
   "metadata": {
    "scrolled": true
   },
   "outputs": [],
   "source": [
    "df['y_6_hours_later'] = df.y.shift(-6)\n",
    "df.dropna(inplace=True)"
   ]
  },
  {
   "cell_type": "markdown",
   "metadata": {},
   "source": [
    "LSTMS in Keras, however, don't accept pandas dataframes unfortunately. So we move our data over to numpy arrays to perform scaling and transformations.\n",
    "The MinMax scaler is later recalled after the model is fit, to transform the data back up for predictions."
   ]
  },
  {
   "cell_type": "code",
   "execution_count": 136,
   "metadata": {},
   "outputs": [],
   "source": [
    "matrix = df.drop('y', axis=1).values\n",
    "MinMax = scale.MinMaxScaler(feature_range=[-1,1])\n",
    "scaled_data = MinMax.fit_transform(matrix)"
   ]
  },
  {
   "cell_type": "code",
   "execution_count": 137,
   "metadata": {},
   "outputs": [
    {
     "data": {
      "text/plain": [
       "array([[ 0.91222275, -0.49604032,  0.60712931, ..., -1.        ,\n",
       "        -1.        ,  0.23660714],\n",
       "       [ 0.9065597 , -0.55075594,  0.58816837, ..., -1.        ,\n",
       "        -1.        ,  0.19285714],\n",
       "       [ 0.90844738, -0.58531317,  0.58513462, ..., -1.        ,\n",
       "        -1.        ,  0.15535714],\n",
       "       ...,\n",
       "       [ 0.8952336 , -1.        ,  0.53962837, ..., -1.        ,\n",
       "        -1.        ,  0.125     ],\n",
       "       [ 0.90184049, -1.        ,  0.55858931, ..., -1.        ,\n",
       "        -1.        ,  0.17946429],\n",
       "       [ 0.91694195, -1.        ,  0.61471369, ..., -1.        ,\n",
       "        -1.        ,  0.17678571]])"
      ]
     },
     "execution_count": 137,
     "metadata": {},
     "output_type": "execute_result"
    }
   ],
   "source": [
    "scaled_data"
   ]
  },
  {
   "cell_type": "markdown",
   "metadata": {},
   "source": [
    "We split the data into X and y variables. The transformed column being the one appended the last. "
   ]
  },
  {
   "cell_type": "code",
   "execution_count": 138,
   "metadata": {},
   "outputs": [],
   "source": [
    "X = scaled_data[:,:17]\n",
    "y = scaled_data[:,17:]"
   ]
  },
  {
   "cell_type": "code",
   "execution_count": 139,
   "metadata": {},
   "outputs": [
    {
     "data": {
      "text/plain": [
       "(8415, 18)"
      ]
     },
     "execution_count": 139,
     "metadata": {},
     "output_type": "execute_result"
    }
   ],
   "source": [
    "scaled_data.shape"
   ]
  },
  {
   "cell_type": "markdown",
   "metadata": {},
   "source": [
    "### Modelling"
   ]
  },
  {
   "cell_type": "markdown",
   "metadata": {},
   "source": [
    "Since we have such few training samples we must make sure that our model doesn't overfit the data! "
   ]
  },
  {
   "cell_type": "code",
   "execution_count": 140,
   "metadata": {},
   "outputs": [],
   "source": [
    "xtrain, xtest, ytrain, ytest = dataSplit(X, y, float, test_size=0.3)"
   ]
  },
  {
   "cell_type": "code",
   "execution_count": 141,
   "metadata": {},
   "outputs": [
    {
     "data": {
      "text/plain": [
       "(5890, 17)"
      ]
     },
     "execution_count": 141,
     "metadata": {},
     "output_type": "execute_result"
    }
   ],
   "source": [
    "xtrain.shape"
   ]
  },
  {
   "cell_type": "markdown",
   "metadata": {},
   "source": [
    "LSTMS are picky data eaters. So we must transform the data shape."
   ]
  },
  {
   "cell_type": "code",
   "execution_count": 142,
   "metadata": {},
   "outputs": [
    {
     "name": "stdout",
     "output_type": "stream",
     "text": [
      "(5890, 1, 17) (5890, 1) (2525, 1, 17) (2525, 1)\n"
     ]
    }
   ],
   "source": [
    "xtrain = xtrain.reshape((xtrain.shape[0],1,xtrain.shape[1]))\n",
    "xtest = xtest.reshape((xtest.shape[0],1,xtest.shape[1]))\n",
    "print(xtrain.shape, ytrain.shape, xtest.shape,ytest.shape)"
   ]
  },
  {
   "cell_type": "markdown",
   "metadata": {},
   "source": [
    "### Network"
   ]
  },
  {
   "cell_type": "markdown",
   "metadata": {},
   "source": [
    "A good rule of thumb is to set the LSTM size between the number of output params and the number of input variables. In our case we have 17 variables with an output of 1. So we can pick a midpoint of 10! "
   ]
  },
  {
   "cell_type": "code",
   "execution_count": 143,
   "metadata": {},
   "outputs": [],
   "source": [
    "model = Sequential()\n",
    "model.add(LSTM(10, input_shape = (xtrain.shape[1],xtrain.shape[2])))\n",
    "model.add(Dense(1))\n",
    "model.compile(loss='mse', optimizer='adam')"
   ]
  },
  {
   "cell_type": "code",
   "execution_count": 144,
   "metadata": {},
   "outputs": [
    {
     "name": "stdout",
     "output_type": "stream",
     "text": [
      "____________________________________________________________________________________________________\n",
      "Layer (type)                     Output Shape          Param #     Connected to                     \n",
      "====================================================================================================\n",
      "lstm_9 (LSTM)                    (None, 10)            1120        lstm_input_9[0][0]               \n",
      "____________________________________________________________________________________________________\n",
      "dense_9 (Dense)                  (None, 1)             11          lstm_9[0][0]                     \n",
      "====================================================================================================\n",
      "Total params: 1,131\n",
      "Trainable params: 1,131\n",
      "Non-trainable params: 0\n",
      "____________________________________________________________________________________________________\n"
     ]
    }
   ],
   "source": [
    "model.summary()"
   ]
  },
  {
   "cell_type": "code",
   "execution_count": 145,
   "metadata": {
    "scrolled": true
   },
   "outputs": [
    {
     "name": "stdout",
     "output_type": "stream",
     "text": [
      "Train on 5890 samples, validate on 2525 samples\n",
      "Epoch 1/50\n",
      "0s - loss: 0.1492 - val_loss: 0.0914\n",
      "Epoch 2/50\n",
      "0s - loss: 0.0763 - val_loss: 0.0707\n",
      "Epoch 3/50\n",
      "0s - loss: 0.0621 - val_loss: 0.0625\n",
      "Epoch 4/50\n",
      "0s - loss: 0.0568 - val_loss: 0.0596\n",
      "Epoch 5/50\n",
      "0s - loss: 0.0549 - val_loss: 0.0585\n",
      "Epoch 6/50\n",
      "0s - loss: 0.0540 - val_loss: 0.0578\n",
      "Epoch 7/50\n",
      "0s - loss: 0.0534 - val_loss: 0.0572\n",
      "Epoch 8/50\n",
      "0s - loss: 0.0530 - val_loss: 0.0568\n",
      "Epoch 9/50\n",
      "0s - loss: 0.0526 - val_loss: 0.0565\n",
      "Epoch 10/50\n",
      "0s - loss: 0.0523 - val_loss: 0.0562\n",
      "Epoch 11/50\n",
      "0s - loss: 0.0521 - val_loss: 0.0560\n",
      "Epoch 12/50\n",
      "0s - loss: 0.0519 - val_loss: 0.0558\n",
      "Epoch 13/50\n",
      "0s - loss: 0.0518 - val_loss: 0.0556\n",
      "Epoch 14/50\n",
      "0s - loss: 0.0516 - val_loss: 0.0555\n",
      "Epoch 15/50\n",
      "0s - loss: 0.0515 - val_loss: 0.0553\n",
      "Epoch 16/50\n",
      "0s - loss: 0.0514 - val_loss: 0.0552\n",
      "Epoch 17/50\n",
      "0s - loss: 0.0513 - val_loss: 0.0551\n",
      "Epoch 18/50\n",
      "0s - loss: 0.0512 - val_loss: 0.0550\n",
      "Epoch 19/50\n",
      "0s - loss: 0.0511 - val_loss: 0.0549\n",
      "Epoch 20/50\n",
      "0s - loss: 0.0510 - val_loss: 0.0549\n",
      "Epoch 21/50\n",
      "0s - loss: 0.0509 - val_loss: 0.0548\n",
      "Epoch 22/50\n",
      "0s - loss: 0.0509 - val_loss: 0.0547\n",
      "Epoch 23/50\n",
      "0s - loss: 0.0508 - val_loss: 0.0547\n",
      "Epoch 24/50\n",
      "0s - loss: 0.0508 - val_loss: 0.0546\n",
      "Epoch 25/50\n",
      "0s - loss: 0.0507 - val_loss: 0.0546\n",
      "Epoch 26/50\n",
      "0s - loss: 0.0507 - val_loss: 0.0545\n",
      "Epoch 27/50\n",
      "0s - loss: 0.0506 - val_loss: 0.0545\n",
      "Epoch 28/50\n",
      "0s - loss: 0.0506 - val_loss: 0.0544\n",
      "Epoch 29/50\n",
      "0s - loss: 0.0505 - val_loss: 0.0544\n",
      "Epoch 30/50\n",
      "0s - loss: 0.0505 - val_loss: 0.0544\n",
      "Epoch 31/50\n",
      "0s - loss: 0.0504 - val_loss: 0.0543\n",
      "Epoch 32/50\n",
      "0s - loss: 0.0504 - val_loss: 0.0543\n",
      "Epoch 33/50\n",
      "0s - loss: 0.0504 - val_loss: 0.0543\n",
      "Epoch 34/50\n",
      "0s - loss: 0.0503 - val_loss: 0.0542\n",
      "Epoch 35/50\n",
      "0s - loss: 0.0503 - val_loss: 0.0542\n",
      "Epoch 36/50\n",
      "0s - loss: 0.0503 - val_loss: 0.0542\n",
      "Epoch 37/50\n",
      "0s - loss: 0.0502 - val_loss: 0.0541\n",
      "Epoch 38/50\n",
      "0s - loss: 0.0502 - val_loss: 0.0541\n",
      "Epoch 39/50\n",
      "0s - loss: 0.0502 - val_loss: 0.0541\n",
      "Epoch 40/50\n",
      "0s - loss: 0.0501 - val_loss: 0.0541\n",
      "Epoch 41/50\n",
      "0s - loss: 0.0501 - val_loss: 0.0540\n",
      "Epoch 42/50\n",
      "0s - loss: 0.0501 - val_loss: 0.0540\n",
      "Epoch 43/50\n",
      "0s - loss: 0.0501 - val_loss: 0.0540\n",
      "Epoch 44/50\n",
      "0s - loss: 0.0500 - val_loss: 0.0540\n",
      "Epoch 45/50\n",
      "0s - loss: 0.0500 - val_loss: 0.0539\n",
      "Epoch 46/50\n",
      "0s - loss: 0.0500 - val_loss: 0.0539\n",
      "Epoch 47/50\n",
      "0s - loss: 0.0500 - val_loss: 0.0539\n",
      "Epoch 48/50\n",
      "0s - loss: 0.0499 - val_loss: 0.0539\n",
      "Epoch 49/50\n",
      "0s - loss: 0.0499 - val_loss: 0.0539\n",
      "Epoch 50/50\n",
      "0s - loss: 0.0499 - val_loss: 0.0538\n"
     ]
    },
    {
     "data": {
      "image/png": "[encoded data removed]",
      "text/plain": [
       "<matplotlib.figure.Figure at 0x2f2e66bb160>"
      ]
     },
     "metadata": {},
     "output_type": "display_data"
    }
   ],
   "source": [
    "#fit\n",
    "history = model.fit(xtrain, ytrain, nb_epoch=50, batch_size=128, validation_data=(xtest,ytest), verbose=2, shuffle=False)\n",
    "plt.plot(history.history['loss'], label='train')\n",
    "plt.plot(history.history['val_loss'], label='test')\n",
    "plt.legend()\n",
    "plt.show()"
   ]
  },
  {
   "cell_type": "markdown",
   "metadata": {},
   "source": [
    "### Evaluation"
   ]
  },
  {
   "cell_type": "markdown",
   "metadata": {},
   "source": [
    "We reshape our variables to shapes we're more familiar with"
   ]
  },
  {
   "cell_type": "code",
   "execution_count": 146,
   "metadata": {},
   "outputs": [],
   "source": [
    "y_pred = model.predict(xtest)\n",
    "xtest = xtest.reshape((xtest.shape[0], xtest.shape[2])) #reshaping it back"
   ]
  },
  {
   "cell_type": "code",
   "execution_count": 147,
   "metadata": {},
   "outputs": [
    {
     "data": {
      "text/plain": [
       "(2525, 17)"
      ]
     },
     "execution_count": 147,
     "metadata": {},
     "output_type": "execute_result"
    }
   ],
   "source": [
    "xtest.shape"
   ]
  },
  {
   "cell_type": "markdown",
   "metadata": {},
   "source": [
    "We have to go back to our scaling model to expand our arrays back up to check the rmse. \n",
    "\n",
    "When we first scaled the dataset, the X and y variables were together so we must join them back up when we inverse scale. "
   ]
  },
  {
   "cell_type": "code",
   "execution_count": 148,
   "metadata": {},
   "outputs": [
    {
     "name": "stdout",
     "output_type": "stream",
     "text": [
      "(2525,)\n"
     ]
    }
   ],
   "source": [
    "#inver scaling to forecast\n",
    "y_pred_inv = concatenate((xtest,y_pred), axis=1)\n",
    "\n",
    "y_pred_inv = MinMax.inverse_transform(y_pred_inv)\n",
    "y_pred_inv = y_pred_inv[:,-1]\n",
    "print(y_pred_inv.shape)"
   ]
  },
  {
   "cell_type": "markdown",
   "metadata": {},
   "source": [
    "The same process is repeated for our test variable. It is added back and scaled up and separated again to evaluate"
   ]
  },
  {
   "cell_type": "code",
   "execution_count": 149,
   "metadata": {},
   "outputs": [
    {
     "name": "stdout",
     "output_type": "stream",
     "text": [
      "(2525,)\n"
     ]
    }
   ],
   "source": [
    "#inver scaling for truth value\n",
    "ytest = ytest.reshape((len(ytest),1))\n",
    "y_inv = concatenate((xtest,ytest), axis=1)\n",
    "y_inv = MinMax.inverse_transform(y_inv)\n",
    "y_inv = y_inv[:,-1]\n",
    "print(y_inv.shape)"
   ]
  },
  {
   "cell_type": "code",
   "execution_count": 150,
   "metadata": {},
   "outputs": [
    {
     "data": {
      "text/plain": [
       "array([1071.15481138, 1314.26640034, 1053.85673523, ..., 1065.87261438,\n",
       "       1003.56307745, 1130.34979105])"
      ]
     },
     "execution_count": 150,
     "metadata": {},
     "output_type": "execute_result"
    }
   ],
   "source": [
    "y_pred_inv"
   ]
  },
  {
   "cell_type": "code",
   "execution_count": 151,
   "metadata": {},
   "outputs": [
    {
     "data": {
      "text/plain": [
       "array([ 834., 1453.,  843., ...,  726., -200., 1349.])"
      ]
     },
     "execution_count": 151,
     "metadata": {},
     "output_type": "execute_result"
    }
   ],
   "source": [
    "y_inv"
   ]
  },
  {
   "cell_type": "code",
   "execution_count": 152,
   "metadata": {},
   "outputs": [],
   "source": [
    "rmse = sqrt(mean_squared_error(y_inv, y_pred_inv))"
   ]
  },
  {
   "cell_type": "code",
   "execution_count": 153,
   "metadata": {},
   "outputs": [
    {
     "data": {
      "text/plain": [
       "259.88046579380625"
      ]
     },
     "execution_count": 153,
     "metadata": {},
     "output_type": "execute_result"
    }
   ],
   "source": [
    "rmse"
   ]
  },
  {
   "cell_type": "markdown",
   "metadata": {},
   "source": [
    "The LSTM has a worse performance in the end! We can just keep this separate as it was fun and insightful to compare. "
   ]
  }
 ],
 "metadata": {
  "kernelspec": {
   "display_name": "Python [default]",
   "language": "python",
   "name": "python3"
  },
  "language_info": {
   "codemirror_mode": {
    "name": "ipython",
    "version": 3
   },
   "file_extension": ".py",
   "mimetype": "text/x-python",
   "name": "python",
   "nbconvert_exporter": "python",
   "pygments_lexer": "ipython3",
   "version": "3.5.2"
  },
  "widgets": {
   "state": {},
   "version": "1.1.2"
  }
 },
 "nbformat": 4,
 "nbformat_minor": 2
}
